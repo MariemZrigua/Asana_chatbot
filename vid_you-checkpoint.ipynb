{
 "cells": [
  {
   "cell_type": "code",
   "execution_count": 55,
   "id": "9a61250b",
   "metadata": {},
   "outputs": [],
   "source": [
    "import pytube\n",
    "import speech_recognition as sr\n",
    "import moviepy.editor as mp"
   ]
  },
  {
   "cell_type": "code",
   "execution_count": 56,
   "id": "104b86a7",
   "metadata": {},
   "outputs": [
    {
     "data": {
      "text/plain": [
       "'C:/Users/marie/OneDrive/Bureau/Asana\\\\3 erreurs à ne pas faire avec Asana ❌❌❌.3gpp'"
      ]
     },
     "execution_count": 56,
     "metadata": {},
     "output_type": "execute_result"
    }
   ],
   "source": [
    "youtube = pytube.YouTube(\"https://www.youtube.com/watch?v=Tnp34vrtYns\")\n",
    "streams = youtube.streams\n",
    "video_stream = streams.first()\n",
    "video_stream.download(output_path=\"C:/Users/marie/OneDrive/Bureau/Asana\")"
   ]
  },
  {
   "cell_type": "code",
   "execution_count": 57,
   "id": "ad76c639",
   "metadata": {},
   "outputs": [
    {
     "name": "stdout",
     "output_type": "stream",
     "text": [
      "MoviePy - Writing audio in C:/Users/marie/OneDrive/Bureau/Asana/Audioaudio_extracted.wav\n"
     ]
    },
    {
     "name": "stderr",
     "output_type": "stream",
     "text": [
      "                                                                                                                       "
     ]
    },
    {
     "name": "stdout",
     "output_type": "stream",
     "text": [
      "MoviePy - Done.\n"
     ]
    },
    {
     "name": "stderr",
     "output_type": "stream",
     "text": [
      "\r"
     ]
    }
   ],
   "source": [
    "vid_title = video_stream.title\n",
    "vid_path = \"C:/Users/marie/OneDrive/Bureau/Asana/3 erreurs à ne pas faire avec Asana ❌❌❌.3gpp\"\n",
    "vid = mp.VideoFileClip(vid_path)\n",
    "audio = vid.audio\n",
    "output_directory =\"C:/Users/marie/OneDrive/Bureau/Asana/Audio\"\n",
    "output_filename = \"audio_extracted.wav\"\n",
    "output_path = output_directory + output_filename\n",
    "audio.write_audiofile(output_path)\n",
    "\n"
   ]
  },
  {
   "cell_type": "code",
   "execution_count": 58,
   "id": "2d490930",
   "metadata": {},
   "outputs": [
    {
     "name": "stdout",
     "output_type": "stream",
     "text": [
      "Bonjour Vous deux avec l'outil collaboratif à Sana et c'est une très bonne chose pourtant vous craignez de mal faire vous allez peut-être faire des erreurs rien de grave et aussi comme cela que l'on apprend n'ayez pas peur d'essayer de modifier pour adapter petit à petit bout si avons besoin pour vous faire gagner du temps je vais partager aujourd'hui avec vous les 3 erreurs que je constate c'est plus souvent lorsque j'accompagne des utilisateurs dans les entreprises première heure ne pas désactiver les notifications reçu par email vous avez créé votre compte à Sana récemment à partir de votre adresse email et par défaut toutes les notifications que vous allez recevoir dans Hassan à mon également arrivé dans vos e-mails des utilisateurs alors d'être submergé de messages depuis qu'ils ont un ça là autant dire que l'adoption démarre mal bons conseils et donc de tout de suite désactiver cette connexion vous n'aurez plus à gérer on double les messages qui seront j'irais bien plus efficacement dans la salle un deuxième erreur garder les todolist en dehors dassana en effet avoir une liste unique sous à Sana c'est le meilleur moyen pour vous de ne rien oublier d'avoir une vue centralisée pour organiser et prioriser facilement vos actions en résumé Hassana doit devenir votre unique liste pour gérer vos actions donc les messages sera votre valeur sûre et vous allez pouvoir le personnaliser comme bon vous semble 3e erreur ne pas archiver les notifications reçu dans la boîte de réception je vois trop souvent des boîtes de réception inutilisés car rempli de messages et c'est bien dommage car elle est ultra pratique vous avez lu ou traiter une application alors archiver la la tâche le projet ou la conversation à dossier ne seront pas supprimé vous avez uniquement archiver la notification rien de plus objectif quotidien c'est d'avoir une boîte de réception vide le plus régulièrement possible et ça sera apaisant pour vous car vous pouvez vous consacrer à vos actions en sachant que vous êtes au courant des actualités de vos projets des équipes auquel vous appartenez et que vous avez répondu aux questions de vos collègues voici donc les 3 erreurs les plus courantes et mes conseils pour y remédier vous aurez remarqué ce ne sont des erreurs et des conseils qui concerne uniquement l'organisation individuelle en effet l'adoption d'un outil et son efficacité collective passe déjà par une motivation et une bonne utilisation de cette fille par chacune des personnes en suivant mes 3 conseils vous allez améliorer votre productivité avec la salade et indirectement celle de vos équipes avec si vous collaborer avant de quitter YouTube pour appliquer cette fois je vous invite à mettre un like à ma vidéo si vous l'avez apprécier ça me rendra un grand service c'est ça me motivera à continuer à bientôt pour une prochaine video à ne pas manquer en vous abonner à ma chaîne\n"
     ]
    }
   ],
   "source": [
    "\n",
    "r = sr.Recognizer()\n",
    "with sr.AudioFile(output_path ) as source:\n",
    "    audio = r.record(source)\n",
    "    text = r.recognize_google(audio, language=\"fr-FR\")\n",
    "\n",
    "#print(text)\n",
    "\n",
    "file_path = \"C:/Users/marie/OneDrive/Bureau/Asana\" + '/' + vid_title +\".txt\"\n",
    "with open(file_path, \"a\") as file:\n",
    "    file.write(text + \"\\n\")\n",
    "print(text)"
   ]
  },
  {
   "cell_type": "code",
   "execution_count": 59,
   "id": "cdbbab67",
   "metadata": {},
   "outputs": [],
   "source": [
    "import spacy"
   ]
  },
  {
   "cell_type": "code",
   "execution_count": 60,
   "id": "d8c82b07",
   "metadata": {},
   "outputs": [],
   "source": [
    "nlp = spacy.load(\"fr_core_news_sm\")"
   ]
  },
  {
   "cell_type": "code",
   "execution_count": 61,
   "id": "c7f4fbe9",
   "metadata": {},
   "outputs": [],
   "source": [
    "with open(file_path, 'r', encoding= 'latin-1') as file:\n",
    "    texte= file.read()\n",
    "   "
   ]
  },
  {
   "cell_type": "code",
   "execution_count": 62,
   "id": "6b38a231",
   "metadata": {},
   "outputs": [],
   "source": [
    "doc=nlp(texte)"
   ]
  },
  {
   "cell_type": "code",
   "execution_count": 63,
   "id": "17b2fe47",
   "metadata": {},
   "outputs": [],
   "source": [
    "entites = [(ent.text, ent.label_) for ent in doc.ents]"
   ]
  },
  {
   "cell_type": "code",
   "execution_count": 64,
   "id": "6b630262",
   "metadata": {},
   "outputs": [],
   "source": [
    "phrases = [phrase.text for phrase in doc.sents]"
   ]
  },
  {
   "cell_type": "code",
   "execution_count": 65,
   "id": "8392f98a",
   "metadata": {},
   "outputs": [
    {
     "name": "stdout",
     "output_type": "stream",
     "text": [
      "Entités nommées :\n",
      "('Sana', 'LOC')\n",
      "('Sana', 'PER')\n",
      "('Hassan', 'LOC')\n",
      "(\"Sana c'\", 'MISC')\n",
      "('Hassana', 'PER')\n",
      "('YouTube', 'MISC')\n",
      "('Bonjour Vous deux', 'MISC')\n",
      "('Sana', 'LOC')\n",
      "('Sana', 'PER')\n",
      "('Hassan', 'LOC')\n",
      "(\"Sana c'\", 'MISC')\n",
      "('Hassana', 'PER')\n",
      "('YouTube', 'MISC')\n"
     ]
    }
   ],
   "source": [
    "print(\"Entités nommées :\")\n",
    "for ent in entites:\n",
    "    print(ent)"
   ]
  },
  {
   "cell_type": "code",
   "execution_count": 66,
   "id": "4484dd1b",
   "metadata": {},
   "outputs": [
    {
     "name": "stdout",
     "output_type": "stream",
     "text": [
      "\n",
      "Phrases :\n",
      "Bonjour\n",
      "Vous deux avec l'outil collaboratif à Sana et c'est une très bonne chose pourtant vous craignez de mal faire vous allez peut-être faire des erreurs rien de grave et aussi comme cela que l'on apprend n'ayez pas peur d'essayer de modifier pour adapter petit à petit bout si avons besoin pour vous faire gagner du temps je vais partager aujourd'hui avec vous les 3 erreurs que je constate c'est plus souvent lorsque j'accompagne des utilisateurs dans les entreprises premières heures de pas désactiver les notifications reçu par email vous avez créé votre compte à Sana récemment à partir de votre adresse email et par défaut toutes les notifications que vous allez recevoir dans Hassan à mon également arrivé dans vos e-mails des utilisateurs alors d'être submergé de messages depuis qu'ils ont un ça là autant dire que l'adoption démarre mal bons conseils et donc de tout de suite désactiver cette connexion vous n'aurez plus à gérer on double les messages qui seront j'irais bien plus efficacement dans la salle un deuxième erreur garder les todolist en dehors dassana en effet avoir une liste unique sous à Sana c'est le meilleur moyen pour vous de ne rien oublier d'avoir une vue centralisée pour organiser et prioriser facilement vos actions en résumé Hassana doit devenir votre unique liste pour gérer vos actions donc les messages sera votre valeur sûre et vous allez pouvoir le personnaliser comme bon vous semble 3e erreur ne pas archiver les notifications reçu dans la boîte de réception je vois trop souvent des boîtes de réception inutilisés car rempli de messages et c'est bien dommage car elle est ultra pratique vous avez lu ou traiter une application alors archiver la la tâche le projet ou la conversation à dossier ne seront pas supprimé vous avez uniquement archiver la notification rien de plus objectif quotidien c'est d'avoir une boîte de réception vide le plus régulièrement possible et ça sera apaisant pour vous car vous pouvez vous consacrer à vos actions en sachant que vous êtes au courant des actualités de vos projets des équipes auquel vous appartenez et que vous avez répondu aux questions de vos collègues voici donc les 3 erreurs les plus courantes et mes conseils pour y remédier vous aurez remarqué ce ne sont des erreurs et des conseils qui concerne uniquement l'organisation individuelle en effet l'adoption d'un outil et son efficacité collective passe déjà par une motivation et une bonne utilisation de cette fille par chacune des personnes en suivant mes trois conseils vous allez améliorer votre productivité avec la salade et indirectement celle de vos équipes avec si vous collaborez avant de quitter YouTube pour appliquer cette fois je vous invite à mettre un like à ma vidéo si vous l'avez apprécier ça me rendra un grand service c'est ça me motivera à continuer à bientôt pour une prochaine video à ne pas manquer en vous abonner à ma chaîne\n",
      "Bonjour Vous deux avec l'outil collaboratif à Sana et c'est une très bonne chose pourtant vous craignez de mal faire vous allez peut-être faire des erreurs rien de grave et aussi comme cela que l'on apprend n'ayez pas peur d'essayer de modifier pour adapter petit à petit bout si avons besoin pour vous faire gagner du temps je vais partager aujourd'hui avec vous les 3 erreurs que je constate c'est plus souvent lorsque j'accompagne des utilisateurs dans les entreprises première heure ne pas désactiver les notifications reçu par email vous avez créé votre compte à Sana récemment à partir de votre adresse email et par défaut toutes les notifications que vous allez recevoir dans Hassan à mon également arrivé dans vos e-mails des utilisateurs alors d'être submergé de messages depuis qu'ils ont un ça là autant dire que l'adoption démarre mal bons conseils et donc de tout de suite désactiver cette connexion vous n'aurez plus à gérer on double les messages qui seront j'irais bien plus efficacement dans la salle un deuxième erreur garder les todolist en dehors dassana en effet avoir une liste unique sous à Sana c'est le meilleur moyen pour vous de ne rien oublier d'avoir une vue centralisée pour organiser et prioriser facilement vos actions en résumé Hassana doit devenir votre unique liste pour gérer vos actions donc les messages sera votre valeur sûre et vous allez pouvoir le personnaliser comme bon vous semble 3e erreur ne pas archiver les notifications reçu dans la boîte de réception je vois trop souvent des boîtes de réception inutilisés car rempli de messages et c'est bien dommage car elle est ultra pratique vous avez lu ou traiter une application alors archiver la la tâche le projet ou la conversation à dossier ne seront pas supprimé vous avez uniquement archiver la notification rien de plus objectif quotidien c'est d'avoir une boîte de réception vide le plus régulièrement possible et ça sera apaisant pour vous car vous pouvez vous consacrer à vos actions en sachant que vous êtes au courant des actualités de vos projets des équipes auquel vous appartenez et que vous avez répondu aux questions de vos collègues voici donc les 3 erreurs les plus courantes et mes conseils pour y remédier vous aurez remarqué ce ne sont des erreurs et des conseils qui concerne uniquement l'organisation individuelle en effet l'adoption d'un outil et son efficacité collective passe déjà par une motivation et une bonne utilisation de cette fille par chacune des personnes en suivant mes 3 conseils vous allez améliorer votre productivité avec la salade et indirectement celle de vos équipes avec si vous collaborer avant de quitter YouTube pour appliquer cette fois je vous invite à mettre un like à ma vidéo si vous l'avez apprécier ça me rendra un grand service c'est ça me motivera à continuer à bientôt pour une prochaine video à ne pas manquer en vous abonner à ma chaîne\n",
      "\n"
     ]
    }
   ],
   "source": [
    "print(\"\\nPhrases :\")\n",
    "for phrase in phrases:\n",
    "    print(phrase)"
   ]
  },
  {
   "cell_type": "code",
   "execution_count": 67,
   "id": "9ecf2eaf",
   "metadata": {},
   "outputs": [
    {
     "data": {
      "text/plain": [
       "\"bonjour vous deux avec l'outil collaboratif à sana et c'est une très bonne chose pourtant vous craignez de mal faire vous allez peut-être faire des erreurs rien de grave et aussi comme cela que l'on apprend n'ayez pas peur d'essayer de modifier pour adapter petit à petit bout si avons besoin pour vous faire gagner du temps je vais partager aujourd'hui avec vous les 3 erreurs que je constate c'est plus souvent lorsque j'accompagne des utilisateurs dans les entreprises première heure ne pas désactiver les notifications reçu par email vous avez créé votre compte à sana récemment à partir de votre adresse email et par défaut toutes les notifications que vous allez recevoir dans hassan à mon également arrivé dans vos e-mails des utilisateurs alors d'être submergé de messages depuis qu'ils ont un ça là autant dire que l'adoption démarre mal bons conseils et donc de tout de suite désactiver cette connexion vous n'aurez plus à gérer on double les messages qui seront j'irais bien plus efficacement dans la salle un deuxième erreur garder les todolist en dehors dassana en effet avoir une liste unique sous à sana c'est le meilleur moyen pour vous de ne rien oublier d'avoir une vue centralisée pour organiser et prioriser facilement vos actions en résumé hassana doit devenir votre unique liste pour gérer vos actions donc les messages sera votre valeur sûre et vous allez pouvoir le personnaliser comme bon vous semble 3e erreur ne pas archiver les notifications reçu dans la boîte de réception je vois trop souvent des boîtes de réception inutilisés car rempli de messages et c'est bien dommage car elle est ultra pratique vous avez lu ou traiter une application alors archiver la la tâche le projet ou la conversation à dossier ne seront pas supprimé vous avez uniquement archiver la notification rien de plus objectif quotidien c'est d'avoir une boîte de réception vide le plus régulièrement possible et ça sera apaisant pour vous car vous pouvez vous consacrer à vos actions en sachant que vous êtes au courant des actualités de vos projets des équipes auquel vous appartenez et que vous avez répondu aux questions de vos collègues voici donc les 3 erreurs les plus courantes et mes conseils pour y remédier vous aurez remarqué ce ne sont des erreurs et des conseils qui concerne uniquement l'organisation individuelle en effet l'adoption d'un outil et son efficacité collective passe déjà par une motivation et une bonne utilisation de cette fille par chacune des personnes en suivant mes 3 conseils vous allez améliorer votre productivité avec la salade et indirectement celle de vos équipes avec si vous collaborer avant de quitter youtube pour appliquer cette fois je vous invite à mettre un like à ma vidéo si vous l'avez apprécier ça me rendra un grand service c'est ça me motivera à continuer à bientôt pour une prochaine video à ne pas manquer en vous abonner à ma chaîne\""
      ]
     },
     "execution_count": 67,
     "metadata": {},
     "output_type": "execute_result"
    }
   ],
   "source": [
    "text.lower()"
   ]
  },
  {
   "cell_type": "code",
   "execution_count": 68,
   "id": "a93ab5c3",
   "metadata": {},
   "outputs": [],
   "source": [
    "import string"
   ]
  },
  {
   "cell_type": "code",
   "execution_count": 69,
   "id": "fc3cfa08",
   "metadata": {},
   "outputs": [
    {
     "data": {
      "text/plain": [
       "'!\"#$%&\\'()*+,-./:;<=>?@[\\\\]^_`{|}~'"
      ]
     },
     "execution_count": 69,
     "metadata": {},
     "output_type": "execute_result"
    }
   ],
   "source": [
    "string.punctuation"
   ]
  },
  {
   "cell_type": "code",
   "execution_count": 70,
   "id": "2179b386",
   "metadata": {},
   "outputs": [],
   "source": [
    "def remove_punctuations(text):\n",
    "    punctuations = string.punctuation\n",
    "    return text.translate(str.maketrans('','',punctuations))"
   ]
  },
  {
   "cell_type": "code",
   "execution_count": 85,
   "id": "d3de8bd9",
   "metadata": {},
   "outputs": [
    {
     "name": "stdout",
     "output_type": "stream",
     "text": [
      "Bonjour Vous deux avec loutil collaboratif à Sana et cest une très bonne chose pourtant vous craignez de mal faire vous allez peutêtre faire des erreurs rien de grave et aussi comme cela que lon apprend nayez pas peur dessayer de modifier pour adapter petit à petit bout si avons besoin pour vous faire gagner du temps je vais partager aujourdhui avec vous les 3 erreurs que je constate cest plus souvent lorsque jaccompagne des utilisateurs dans les entreprises première heure ne pas désactiver les notifications reçu par email vous avez créé votre compte à Sana récemment à partir de votre adresse email et par défaut toutes les notifications que vous allez recevoir dans Hassan à mon également arrivé dans vos emails des utilisateurs alors dêtre submergé de messages depuis quils ont un ça là autant dire que ladoption démarre mal bons conseils et donc de tout de suite désactiver cette connexion vous naurez plus à gérer on double les messages qui seront jirais bien plus efficacement dans la salle un deuxième erreur garder les todolist en dehors dassana en effet avoir une liste unique sous à Sana cest le meilleur moyen pour vous de ne rien oublier davoir une vue centralisée pour organiser et prioriser facilement vos actions en résumé Hassana doit devenir votre unique liste pour gérer vos actions donc les messages sera votre valeur sûre et vous allez pouvoir le personnaliser comme bon vous semble 3e erreur ne pas archiver les notifications reçu dans la boîte de réception je vois trop souvent des boîtes de réception inutilisés car rempli de messages et cest bien dommage car elle est ultra pratique vous avez lu ou traiter une application alors archiver la la tâche le projet ou la conversation à dossier ne seront pas supprimé vous avez uniquement archiver la notification rien de plus objectif quotidien cest davoir une boîte de réception vide le plus régulièrement possible et ça sera apaisant pour vous car vous pouvez vous consacrer à vos actions en sachant que vous êtes au courant des actualités de vos projets des équipes auquel vous appartenez et que vous avez répondu aux questions de vos collègues voici donc les 3 erreurs les plus courantes et mes conseils pour y remédier vous aurez remarqué ce ne sont des erreurs et des conseils qui concerne uniquement lorganisation individuelle en effet ladoption dun outil et son efficacité collective passe déjà par une motivation et une bonne utilisation de cette fille par chacune des personnes en suivant mes 3 conseils vous allez améliorer votre productivité avec la salade et indirectement celle de vos équipes avec si vous collaborer avant de quitter YouTube pour appliquer cette fois je vous invite à mettre un like à ma vidéo si vous lavez apprécier ça me rendra un grand service cest ça me motivera à continuer à bientôt pour une prochaine video à ne pas manquer en vous abonner à ma chaîne\n"
     ]
    }
   ],
   "source": [
    "text1=remove_punctuations(text)\n",
    "print(text1)"
   ]
  },
  {
   "cell_type": "code",
   "execution_count": 72,
   "id": "1557555d",
   "metadata": {},
   "outputs": [],
   "source": [
    "import nltk"
   ]
  },
  {
   "cell_type": "code",
   "execution_count": 73,
   "id": "ca36f2d3",
   "metadata": {},
   "outputs": [
    {
     "name": "stderr",
     "output_type": "stream",
     "text": [
      "[nltk_data] Downloading package stopwords to\n",
      "[nltk_data]     C:\\Users\\marie\\AppData\\Roaming\\nltk_data...\n",
      "[nltk_data]   Package stopwords is already up-to-date!\n"
     ]
    },
    {
     "data": {
      "text/plain": [
       "True"
      ]
     },
     "execution_count": 73,
     "metadata": {},
     "output_type": "execute_result"
    }
   ],
   "source": [
    "nltk.download('stopwords')"
   ]
  },
  {
   "cell_type": "code",
   "execution_count": 74,
   "id": "87eab365",
   "metadata": {},
   "outputs": [
    {
     "data": {
      "text/plain": [
       "'au, aux, avec, ce, ces, dans, de, des, du, elle, en, et, eux, il, ils, je, la, le, les, leur, lui, ma, mais, me, même, mes, moi, mon, ne, nos, notre, nous, on, ou, par, pas, pour, qu, que, qui, sa, se, ses, son, sur, ta, te, tes, toi, ton, tu, un, une, vos, votre, vous, c, d, j, l, à, m, n, s, t, y, été, étée, étées, étés, étant, étante, étants, étantes, suis, es, est, sommes, êtes, sont, serai, seras, sera, serons, serez, seront, serais, serait, serions, seriez, seraient, étais, était, étions, étiez, étaient, fus, fut, fûmes, fûtes, furent, sois, soit, soyons, soyez, soient, fusse, fusses, fût, fussions, fussiez, fussent, ayant, ayante, ayantes, ayants, eu, eue, eues, eus, ai, as, avons, avez, ont, aurai, auras, aura, aurons, aurez, auront, aurais, aurait, aurions, auriez, auraient, avais, avait, avions, aviez, avaient, eut, eûmes, eûtes, eurent, aie, aies, ait, ayons, ayez, aient, eusse, eusses, eût, eussions, eussiez, eussent'"
      ]
     },
     "execution_count": 74,
     "metadata": {},
     "output_type": "execute_result"
    }
   ],
   "source": [
    "from nltk.corpus import stopwords\n",
    "\", \".join(stopwords.words('french'))"
   ]
  },
  {
   "cell_type": "code",
   "execution_count": 75,
   "id": "a6f3d038",
   "metadata": {},
   "outputs": [],
   "source": [
    "stopw = set(stopwords.words('french'))\n",
    "def remove_stopw(text):\n",
    "    return \" \".join([word for word in text.split() if word not in \n",
    "                    stopw ])"
   ]
  },
  {
   "cell_type": "code",
   "execution_count": 86,
   "id": "b897ff9f",
   "metadata": {},
   "outputs": [
    {
     "name": "stdout",
     "output_type": "stream",
     "text": [
      "Bonjour Vous deux loutil collaboratif Sana cest très bonne chose pourtant craignez mal faire allez peutêtre faire erreurs rien grave aussi comme cela lon apprend nayez peur dessayer modifier adapter petit petit bout si besoin faire gagner temps vais partager aujourdhui 3 erreurs constate cest plus souvent lorsque jaccompagne utilisateurs entreprises première heure désactiver notifications reçu email créé compte Sana récemment partir adresse email défaut toutes notifications allez recevoir Hassan également arrivé emails utilisateurs alors dêtre submergé messages depuis quils ça là autant dire ladoption démarre mal bons conseils donc tout suite désactiver cette connexion naurez plus gérer double messages jirais bien plus efficacement salle deuxième erreur garder todolist dehors dassana effet avoir liste unique sous Sana cest meilleur moyen rien oublier davoir vue centralisée organiser prioriser facilement actions résumé Hassana doit devenir unique liste gérer actions donc messages valeur sûre allez pouvoir personnaliser comme bon semble 3e erreur archiver notifications reçu boîte réception vois trop souvent boîtes réception inutilisés car rempli messages cest bien dommage car ultra pratique lu traiter application alors archiver tâche projet conversation dossier supprimé uniquement archiver notification rien plus objectif quotidien cest davoir boîte réception vide plus régulièrement possible ça apaisant car pouvez consacrer actions sachant courant actualités projets équipes auquel appartenez répondu questions collègues voici donc 3 erreurs plus courantes conseils remédier remarqué erreurs conseils concerne uniquement lorganisation individuelle effet ladoption dun outil efficacité collective passe déjà motivation bonne utilisation cette fille chacune personnes suivant 3 conseils allez améliorer productivité salade indirectement celle équipes si collaborer avant quitter YouTube appliquer cette fois invite mettre like vidéo si lavez apprécier ça rendra grand service cest ça motivera continuer bientôt prochaine video manquer abonner chaîne\n"
     ]
    }
   ],
   "source": [
    "text1 = remove_stopw(text1)\n",
    "print(text1)"
   ]
  },
  {
   "cell_type": "code",
   "execution_count": 77,
   "id": "b7d3fc37",
   "metadata": {},
   "outputs": [],
   "source": [
    "import re\n",
    "def remove_spl_carc(texte):\n",
    "    texte = re.sub('[^a-zA-Z0-9]',' ',texte)\n",
    "    texte = re.sub('\\s+',' ',texte)\n",
    "    return texte"
   ]
  },
  {
   "cell_type": "code",
   "execution_count": 79,
   "id": "b234fd06",
   "metadata": {
    "scrolled": true
   },
   "outputs": [
    {
     "data": {
      "text/plain": [
       "'Bonjour Vous deux avec l outil collaboratif Sana et c est une tr s bonne chose pourtant vous craignez de mal faire vous allez peut tre faire des erreurs rien de grave et aussi comme cela que l on apprend n ayez pas peur d essayer de modifier pour adapter petit petit bout si avons besoin pour vous faire gagner du temps je vais partager aujourd hui avec vous les 3 erreurs que je constate c est plus souvent lorsque j accompagne des utilisateurs dans les entreprises premi re heure ne pas d sactiver les notifications re u par email vous avez cr votre compte Sana r cemment partir de votre adresse email et par d faut toutes les notifications que vous allez recevoir dans Hassan mon galement arriv dans vos e mails des utilisateurs alors d tre submerg de messages depuis qu ils ont un a l autant dire que l adoption d marre mal bons conseils et donc de tout de suite d sactiver cette connexion vous n aurez plus g rer on double les messages qui seront j irais bien plus efficacement dans la salle un deuxi me erreur garder les todolist en dehors dassana en effet avoir une liste unique sous Sana c est le meilleur moyen pour vous de ne rien oublier d avoir une vue centralis e pour organiser et prioriser facilement vos actions en r sum Hassana doit devenir votre unique liste pour g rer vos actions donc les messages sera votre valeur s re et vous allez pouvoir le personnaliser comme bon vous semble 3e erreur ne pas archiver les notifications re u dans la bo te de r ception je vois trop souvent des bo tes de r ception inutilis s car rempli de messages et c est bien dommage car elle est ultra pratique vous avez lu ou traiter une application alors archiver la la t che le projet ou la conversation dossier ne seront pas supprim vous avez uniquement archiver la notification rien de plus objectif quotidien c est d avoir une bo te de r ception vide le plus r guli rement possible et a sera apaisant pour vous car vous pouvez vous consacrer vos actions en sachant que vous tes au courant des actualit s de vos projets des quipes auquel vous appartenez et que vous avez r pondu aux questions de vos coll gues voici donc les 3 erreurs les plus courantes et mes conseils pour y rem dier vous aurez remarqu ce ne sont des erreurs et des conseils qui concerne uniquement l organisation individuelle en effet l adoption d un outil et son efficacit collective passe d j par une motivation et une bonne utilisation de cette fille par chacune des personnes en suivant mes 3 conseils vous allez am liorer votre productivit avec la salade et indirectement celle de vos quipes avec si vous collaborer avant de quitter YouTube pour appliquer cette fois je vous invite mettre un like ma vid o si vous l avez appr cier a me rendra un grand service c est a me motivera continuer bient t pour une prochaine video ne pas manquer en vous abonner ma cha ne'"
      ]
     },
     "execution_count": 79,
     "metadata": {},
     "output_type": "execute_result"
    }
   ],
   "source": [
    "remove_spl_carc(text)"
   ]
  },
  {
   "cell_type": "code",
   "execution_count": 81,
   "id": "4d845356",
   "metadata": {},
   "outputs": [],
   "source": [
    "from nltk.stem.porter import PorterStemmer\n",
    "ps = PorterStemmer()\n",
    "def stem_words(texte):\n",
    "    return \" \".join([ps.stem(word) for word in texte.split()])"
   ]
  },
  {
   "cell_type": "code",
   "execution_count": 87,
   "id": "c94c9e14",
   "metadata": {
    "scrolled": true
   },
   "outputs": [
    {
     "name": "stdout",
     "output_type": "stream",
     "text": [
      "bonjour vou deux loutil collaboratif sana cest trè bonn chose pourtant craignez mal fair allez peutêtr fair erreur rien grave aussi comm cela lon apprend nayez peur dessay modifi adapt petit petit bout si besoin fair gagner temp vai partag aujourdhui 3 erreur constat cest plu souvent lorsqu jaccompagn utilisateur entrepris premièr heur désactiv notif reçu email créé compt sana récemment partir adress email défaut tout notif allez recevoir hassan également arrivé email utilisateur alor dêtre submergé messag depui quil ça là autant dire ladopt démarr mal bon conseil donc tout suit désactiv cett connexion naurez plu gérer doubl messag jirai bien plu efficac sall deuxièm erreur garder todolist dehor dassana effet avoir list uniqu sou sana cest meilleur moyen rien oublier davoir vue centralisé organis prioris facil action résumé hassana doit devenir uniqu list gérer action donc messag valeur sûre allez pouvoir personnalis comm bon sembl 3e erreur archiv notif reçu boît réception voi trop souvent boît réception inutilisé car rempli messag cest bien dommag car ultra pratiqu lu traiter applic alor archiv tâche projet convers dossier supprimé uniqu archiv notif rien plu objectif quotidien cest davoir boît réception vide plu régulièr possibl ça apais car pouvez consacr action sachant courant actualité projet équip auquel appartenez répondu question collègu voici donc 3 erreur plu courant conseil remédier remarqué erreur conseil concern uniqu lorganis individuel effet ladopt dun outil efficacité collect pass déjà motiv bonn utilis cett fill chacun personn suivant 3 conseil allez amélior productivité salad indirect cell équip si collabor avant quitter youtub appliqu cett foi invit mettr like vidéo si lavez apprécier ça rendra grand servic cest ça motivera continu bientôt prochain video manquer abonn chaîn\n"
     ]
    }
   ],
   "source": [
    "text1 = stem_words(text1)\n",
    "print(text1)"
   ]
  },
  {
   "cell_type": "code",
   "execution_count": null,
   "id": "92689186",
   "metadata": {},
   "outputs": [],
   "source": []
  },
  {
   "cell_type": "code",
   "execution_count": null,
   "id": "0467289f",
   "metadata": {},
   "outputs": [],
   "source": []
  },
  {
   "cell_type": "code",
   "execution_count": null,
   "id": "eaf6a6d1",
   "metadata": {},
   "outputs": [],
   "source": []
  },
  {
   "cell_type": "code",
   "execution_count": null,
   "id": "06be1c27",
   "metadata": {},
   "outputs": [],
   "source": []
  }
 ],
 "metadata": {
  "kernelspec": {
   "display_name": "Python 3 (ipykernel)",
   "language": "python",
   "name": "python3"
  },
  "language_info": {
   "codemirror_mode": {
    "name": "ipython",
    "version": 3
   },
   "file_extension": ".py",
   "mimetype": "text/x-python",
   "name": "python",
   "nbconvert_exporter": "python",
   "pygments_lexer": "ipython3",
   "version": "3.9.12"
  }
 },
 "nbformat": 4,
 "nbformat_minor": 5
}
