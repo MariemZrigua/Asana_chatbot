{
 "cells": [
  {
   "cell_type": "code",
   "execution_count": 11,
   "id": "36d11b45",
   "metadata": {},
   "outputs": [],
   "source": [
    "import pandas as pd\n",
    "from youtube_transcript_api import YouTubeTranscriptApi\n",
    "from pytube import YouTube"
   ]
  },
  {
   "cell_type": "code",
   "execution_count": 35,
   "id": "51594de2",
   "metadata": {},
   "outputs": [],
   "source": [
    "liens_videos = [\n",
    "    'https://www.youtube.com/watch?v=ff9S6NHkMSE', 'https://www.youtube.com/watch?v=FEWFBGe2uQI&t',\n",
    "    'https://www.youtube.com/watch?v=zxL-xR7juFE', 'https://www.youtube.com/watch?v=6O31MfifIlA',\n",
    "    'https://www.youtube.com/watch?v=2EBVBjf71NQ', 'https://www.youtube.com/watch?v=ynotKmQpXoY',\n",
    "    'https://www.youtube.com/watch?v=Qjxq838Z_9c', 'https://www.youtube.com/watch?v=b7RG8cgzUFQ',\n",
    "    'https://www.youtube.com/watch?v=usJ0bKjrDT8', 'https://www.youtube.com/watch?v=b5FkYJTqktE',\n",
    "    'https://www.youtube.com/watch?v=vKvFLbgZFcA' , 'https://www.youtube.com/watch?v=op0YkZto9Jw&t', \n",
    "    'https://www.youtube.com/watch?v=8Gs06hO6Maw', 'https://www.youtube.com/watch?v=sMedSAt3zFY' ,\n",
    "    'https://www.youtube.com/watch?v=WqubU18Z8yU', 'https://www.youtube.com/watch?v=bLe9MRBQc4w&t',\n",
    "    'https://www.youtube.com/watch?v=Y7j-9pdOkrE', 'https://www.youtube.com/watch?v=upe6wWwTKy0', \n",
    "    'https://www.youtube.com/watch?v=E6QdWCBH1eU', 'https://www.youtube.com/watch?v=93f4bC8tGpI', \n",
    "    'https://www.youtube.com/watch?v=E-TooCje_ow', 'https://www.youtube.com/watch?v=slv2vruC32Y', \n",
    "    'https://www.youtube.com/watch?v=7nys_PNjaf0', 'https://www.youtube.com/watch?v=4QuLRdRcKHc',\n",
    "    'https://www.youtube.com/watch?v=1ZiysBw3AJA', 'https://www.youtube.com/watch?v=Gboxu6u7Td8', \n",
    "    'https://www.youtube.com/watch?v=4LR8L5y69bo', 'https://www.youtube.com/watch?v=eBI7OU3nsXI',\n",
    "    'https://www.youtube.com/watch?v=ljpYlrq9HO8',\n",
    "    'https://www.youtube.com/watch?v=BZ2m5p4yBOk', 'https://www.youtube.com/watch?v=kNcQXECrLxI',\n",
    "    'https://www.youtube.com/watch?v=Tnp34vrtYns&t', 'https://www.youtube.com/watch?v=hcdHAbJV_6U',\n",
    "    'https://www.youtube.com/watch?v=vdeUNRWrLvU', 'https://www.youtube.com/watch?v=WoCBxF1xtuQ',\n",
    "    'https://www.youtube.com/watch?v=VXsfaoLveDw', 'https://www.youtube.com/watch?v=YTLrq4p6OZc',\n",
    "    'https://www.youtube.com/watch?v=wri_d4lv88A', 'https://www.youtube.com/watch?v=bTOVQPOFAyg',\n",
    "    'https://www.youtube.com/watch?v=EVuyrGk0mxo' ,'https://www.youtube.com/watch?v=-n5gCgB6rH0'\n",
    "    \n",
    "]"
   ]
  },
  {
   "cell_type": "code",
   "execution_count": 36,
   "id": "52990afd",
   "metadata": {},
   "outputs": [],
   "source": [
    "def extraire_texte_video(url):\n",
    "    video = YouTube(url)\n",
    "    # Obtenir l'identifiant de la vidéo\n",
    "    video_id = video.video_id\n",
    "\n",
    "    try:\n",
    "        # Obtenir le transcript de la vidéo en utilisant youtube_transcript_api\n",
    "        transcript = YouTubeTranscriptApi.get_transcript(video_id, languages=['fr', 'en'])\n",
    "    except NoTranscriptFound:\n",
    "        print(f\"Aucune transcription trouvée pour la vidéo : {url}\")\n",
    "        return \"\"\n",
    "    \n",
    "    # Concaténer le texte extrait de chaque segment du transcript\n",
    "    texte = ' '.join([seg['text'] for seg in transcript])\n",
    "    \n",
    "    return texte"
   ]
  },
  {
   "cell_type": "code",
   "execution_count": 37,
   "id": "f3809e91",
   "metadata": {},
   "outputs": [],
   "source": [
    "textes_extrait = [extraire_texte_video(lien) for lien in liens_videos]"
   ]
  },
  {
   "cell_type": "code",
   "execution_count": 38,
   "id": "ca709b14",
   "metadata": {},
   "outputs": [],
   "source": [
    "df = pd.DataFrame({'URL': liens_videos, 'Texte extrait': textes_extrait})"
   ]
  },
  {
   "cell_type": "code",
   "execution_count": 39,
   "id": "9570667a",
   "metadata": {},
   "outputs": [
    {
     "name": "stdout",
     "output_type": "stream",
     "text": [
      "                                              URL  \\\n",
      "0     https://www.youtube.com/watch?v=ff9S6NHkMSE   \n",
      "1   https://www.youtube.com/watch?v=FEWFBGe2uQI&t   \n",
      "2     https://www.youtube.com/watch?v=zxL-xR7juFE   \n",
      "3     https://www.youtube.com/watch?v=6O31MfifIlA   \n",
      "4     https://www.youtube.com/watch?v=2EBVBjf71NQ   \n",
      "5     https://www.youtube.com/watch?v=ynotKmQpXoY   \n",
      "6     https://www.youtube.com/watch?v=Qjxq838Z_9c   \n",
      "7     https://www.youtube.com/watch?v=b7RG8cgzUFQ   \n",
      "8     https://www.youtube.com/watch?v=usJ0bKjrDT8   \n",
      "9     https://www.youtube.com/watch?v=b5FkYJTqktE   \n",
      "10    https://www.youtube.com/watch?v=vKvFLbgZFcA   \n",
      "11  https://www.youtube.com/watch?v=op0YkZto9Jw&t   \n",
      "12    https://www.youtube.com/watch?v=8Gs06hO6Maw   \n",
      "13    https://www.youtube.com/watch?v=sMedSAt3zFY   \n",
      "14    https://www.youtube.com/watch?v=WqubU18Z8yU   \n",
      "15  https://www.youtube.com/watch?v=bLe9MRBQc4w&t   \n",
      "16    https://www.youtube.com/watch?v=Y7j-9pdOkrE   \n",
      "17    https://www.youtube.com/watch?v=upe6wWwTKy0   \n",
      "18    https://www.youtube.com/watch?v=E6QdWCBH1eU   \n",
      "19    https://www.youtube.com/watch?v=93f4bC8tGpI   \n",
      "20    https://www.youtube.com/watch?v=E-TooCje_ow   \n",
      "21    https://www.youtube.com/watch?v=slv2vruC32Y   \n",
      "22    https://www.youtube.com/watch?v=7nys_PNjaf0   \n",
      "23    https://www.youtube.com/watch?v=4QuLRdRcKHc   \n",
      "24    https://www.youtube.com/watch?v=1ZiysBw3AJA   \n",
      "25    https://www.youtube.com/watch?v=Gboxu6u7Td8   \n",
      "26    https://www.youtube.com/watch?v=4LR8L5y69bo   \n",
      "27    https://www.youtube.com/watch?v=eBI7OU3nsXI   \n",
      "28    https://www.youtube.com/watch?v=ljpYlrq9HO8   \n",
      "29    https://www.youtube.com/watch?v=BZ2m5p4yBOk   \n",
      "30    https://www.youtube.com/watch?v=kNcQXECrLxI   \n",
      "31  https://www.youtube.com/watch?v=Tnp34vrtYns&t   \n",
      "32    https://www.youtube.com/watch?v=hcdHAbJV_6U   \n",
      "33    https://www.youtube.com/watch?v=vdeUNRWrLvU   \n",
      "34    https://www.youtube.com/watch?v=WoCBxF1xtuQ   \n",
      "35    https://www.youtube.com/watch?v=VXsfaoLveDw   \n",
      "36    https://www.youtube.com/watch?v=YTLrq4p6OZc   \n",
      "37    https://www.youtube.com/watch?v=wri_d4lv88A   \n",
      "38    https://www.youtube.com/watch?v=bTOVQPOFAyg   \n",
      "39    https://www.youtube.com/watch?v=EVuyrGk0mxo   \n",
      "40    https://www.youtube.com/watch?v=-n5gCgB6rH0   \n",
      "\n",
      "                                        Texte extrait  \n",
      "0   bonjour à tous une colonne formule arrive dans...  \n",
      "1   [Musique] bonjour Si vous aussi comme chez aïd...  \n",
      "2   bonjour à tous aujourd'hui on va voir quelques...  \n",
      "3   merci à tous de vous être connecté aujourd'hui...  \n",
      "4   débuté avec un nouvel outil collaboratif n'est...  \n",
      "5   [Musique] bonjour à toutes et à tous on va voi...  \n",
      "6   bonjour à tout le monde c'est un plaisir d'org...  \n",
      "7   [Musique] bonjour à toutes et à tous bienvenue...  \n",
      "8   [Musique] bonjour à tous merci à tous de vous ...  \n",
      "9   merci à tous de vous être connecté aujourd'hui...  \n",
      "10  [Musique] bonjour à toutes et à tous on va voi...  \n",
      "11  [Musique] bonjour à toutes et à tous dans cett...  \n",
      "12  [Musique] bonjour à tous et à toutes en 5 minu...  \n",
      "13  bienvenue à ce webinaire je me présente je m'a...  \n",
      "14  bonjour à tous merci vraiment un grand merci d...  \n",
      "15  merci à tous d'être présent aujourd'hui pour l...  \n",
      "16  si vous passez des heures chaque semaine à met...  \n",
      "17  reproduire le mouvement automatique des tâches...  \n",
      "18  bonjour à tous bienvenue à tous merci pour vot...  \n",
      "19  [Musique] quels sont les meilleures manières d...  \n",
      "20  hello comme tous les mois je vous retrouve pou...  \n",
      "21  bonjour à tous j'espère que vous allez bien au...  \n",
      "22  bonjour à tous comme d'habitude il ya eu pas m...  \n",
      "23  [Musique] et et une bonjour à tous dans une vi...  \n",
      "24  bonjour à tous en utilisant à sanaa où on peut...  \n",
      "25  vous avez le sentiment d'être bombardés par le...  \n",
      "26  bonjour à tous ces dernières semaines plusieur...  \n",
      "27  bonjour à tous ravis de vous retrouver cette s...  \n",
      "28  bonjour à tous à sanaa a lancé récemment une n...  \n",
      "29  bonjour à tous j'espère que la reprise se pass...  \n",
      "30  bonjour j'espère que vous allez bien quand nou...  \n",
      "31  bonjour vous débutez avec l'outil collaboratif...  \n",
      "32  bonjour dans cette vidéo je vais vous explique...  \n",
      "33  bonjour à tous pendant l'été il ya eu quelques...  \n",
      "34  bienvenue sur cette chaîne youtube au travers ...  \n",
      "35  le sujet c'est comment avoir une vision global...  \n",
      "36  donc le constat voilà c'était des réunions moi...  \n",
      "37  donc bienvenue à tous bonjour à tous j'espère ...  \n",
      "38  donc bienvenue à tous et merci de me rejoindre...  \n",
      "39  webinaire fait partie d'une série que j'ai dém...  \n",
      "40  C'est bon, du coup, on peut attaquer. Les tout...  \n"
     ]
    }
   ],
   "source": [
    "print(df)"
   ]
  },
  {
   "cell_type": "code",
   "execution_count": 40,
   "id": "5b20b2ef",
   "metadata": {},
   "outputs": [],
   "source": [
    "import pytube\n",
    "import speech_recognition as sr\n",
    "import moviepy.editor as mp\n",
    "import pydub"
   ]
  },
  {
   "cell_type": "code",
   "execution_count": 41,
   "id": "15553728",
   "metadata": {},
   "outputs": [],
   "source": [
    "liens_videos1 =[\n",
    "    'https://www.youtube.com/watch?v=Ju_mxRSp-YY','https://www.youtube.com/watch?v=IMU5TeyNvC8',\n",
    "    'https://www.youtube.com/watch?v=0RGiAidjptw&t', 'https://www.youtube.com/watch?v=C3fG7Z3D5-k'\n",
    "    \n",
    "]"
   ]
  },
  {
   "cell_type": "code",
   "execution_count": 42,
   "id": "3c0a1b26",
   "metadata": {},
   "outputs": [],
   "source": [
    "def extract_text_from_video1(video_url):\n",
    "    # Téléchargement de la vidéo\n",
    "    youtube = pytube.YouTube(video_url)\n",
    "    streams = youtube.streams\n",
    "    video_stream = streams.first()\n",
    "    video_stream.download(output_path=\"C:/Users/marie/OneDrive/Bureau/Asana1\")\n",
    "    \n",
    "    # Extraction audio de la vidéo\n",
    "    vid_title = video_stream.title\n",
    "    vid_title = vid_title.replace(\"?\", \"\")\n",
    "    vid_title = vid_title.replace(\"'\", \"\")\n",
    "    vid_path=\"C:/Users/marie/OneDrive/Bureau/Asana1\"+\"\\\\\"+ vid_title +\".3gpp\"\n",
    "    vid = mp.VideoFileClip(vid_path)\n",
    "    audio = vid.audio\n",
    "    output_directory =\"C:/Users/marie/OneDrive/Bureau/Asana1\"\n",
    "    output_filename = vid_title + \".wav\"\n",
    "    output_path = output_directory + output_filename\n",
    "    audio.write_audiofile(output_path)\n",
    "    \n",
    "    \n",
    "    # Chargement de l'audio\n",
    "    r = sr.Recognizer()\n",
    "    with sr.AudioFile(output_path ) as source:\n",
    "        audio = r.record(source)\n",
    "        text = r.recognize_google(audio, language=\"fr-FR\")\n",
    "\n",
    "    file_path = \"C:/Users/marie/OneDrive/Bureau/Asana1\" + '/' + vid_title +\".txt\"\n",
    "    with open(file_path, \"a\") as file:\n",
    "        file.write(text + \"\\n\")\n",
    "    \n",
    "    return text"
   ]
  },
  {
   "cell_type": "code",
   "execution_count": 43,
   "id": "48bd3b52",
   "metadata": {},
   "outputs": [
    {
     "name": "stdout",
     "output_type": "stream",
     "text": [
      "MoviePy - Writing audio in C:/Users/marie/OneDrive/Bureau/Asana1Comment bien organiser votre espace Asana .wav\n"
     ]
    },
    {
     "name": "stderr",
     "output_type": "stream",
     "text": [
      "                                                                                                                       \r"
     ]
    },
    {
     "name": "stdout",
     "output_type": "stream",
     "text": [
      "MoviePy - Done.\n",
      "MoviePy - Writing audio in C:/Users/marie/OneDrive/Bureau/Asana1Découvrez le nouveau Mes Tâches dAsana - Tutoriel Asana.wav\n"
     ]
    },
    {
     "name": "stderr",
     "output_type": "stream",
     "text": [
      "                                                                                                                       \r"
     ]
    },
    {
     "name": "stdout",
     "output_type": "stream",
     "text": [
      "MoviePy - Done.\n",
      "MoviePy - Writing audio in C:/Users/marie/OneDrive/Bureau/Asana110 points clés pour bien débuter avec Asana.wav\n"
     ]
    },
    {
     "name": "stderr",
     "output_type": "stream",
     "text": [
      "                                                                                                                       \r"
     ]
    },
    {
     "name": "stdout",
     "output_type": "stream",
     "text": [
      "MoviePy - Done.\n",
      "MoviePy - Writing audio in C:/Users/marie/OneDrive/Bureau/Asana1Bien gérer vos tâches au quotidien avec loutil Asana.wav\n"
     ]
    },
    {
     "name": "stderr",
     "output_type": "stream",
     "text": [
      "                                                                                                                       \r"
     ]
    },
    {
     "name": "stdout",
     "output_type": "stream",
     "text": [
      "MoviePy - Done.\n"
     ]
    }
   ],
   "source": [
    "for link in liens_videos1:\n",
    "    text = extract_text_from_video1(link)\n",
    "    df=df.append({'URL': link, 'Texte extrait': text}, ignore_index=True)"
   ]
  },
  {
   "cell_type": "code",
   "execution_count": 44,
   "id": "7fc74b25",
   "metadata": {},
   "outputs": [
    {
     "name": "stdout",
     "output_type": "stream",
     "text": [
      "                                              URL  \\\n",
      "0     https://www.youtube.com/watch?v=ff9S6NHkMSE   \n",
      "1   https://www.youtube.com/watch?v=FEWFBGe2uQI&t   \n",
      "2     https://www.youtube.com/watch?v=zxL-xR7juFE   \n",
      "3     https://www.youtube.com/watch?v=6O31MfifIlA   \n",
      "4     https://www.youtube.com/watch?v=2EBVBjf71NQ   \n",
      "5     https://www.youtube.com/watch?v=ynotKmQpXoY   \n",
      "6     https://www.youtube.com/watch?v=Qjxq838Z_9c   \n",
      "7     https://www.youtube.com/watch?v=b7RG8cgzUFQ   \n",
      "8     https://www.youtube.com/watch?v=usJ0bKjrDT8   \n",
      "9     https://www.youtube.com/watch?v=b5FkYJTqktE   \n",
      "10    https://www.youtube.com/watch?v=vKvFLbgZFcA   \n",
      "11  https://www.youtube.com/watch?v=op0YkZto9Jw&t   \n",
      "12    https://www.youtube.com/watch?v=8Gs06hO6Maw   \n",
      "13    https://www.youtube.com/watch?v=sMedSAt3zFY   \n",
      "14    https://www.youtube.com/watch?v=WqubU18Z8yU   \n",
      "15  https://www.youtube.com/watch?v=bLe9MRBQc4w&t   \n",
      "16    https://www.youtube.com/watch?v=Y7j-9pdOkrE   \n",
      "17    https://www.youtube.com/watch?v=upe6wWwTKy0   \n",
      "18    https://www.youtube.com/watch?v=E6QdWCBH1eU   \n",
      "19    https://www.youtube.com/watch?v=93f4bC8tGpI   \n",
      "20    https://www.youtube.com/watch?v=E-TooCje_ow   \n",
      "21    https://www.youtube.com/watch?v=slv2vruC32Y   \n",
      "22    https://www.youtube.com/watch?v=7nys_PNjaf0   \n",
      "23    https://www.youtube.com/watch?v=4QuLRdRcKHc   \n",
      "24    https://www.youtube.com/watch?v=1ZiysBw3AJA   \n",
      "25    https://www.youtube.com/watch?v=Gboxu6u7Td8   \n",
      "26    https://www.youtube.com/watch?v=4LR8L5y69bo   \n",
      "27    https://www.youtube.com/watch?v=eBI7OU3nsXI   \n",
      "28    https://www.youtube.com/watch?v=ljpYlrq9HO8   \n",
      "29    https://www.youtube.com/watch?v=BZ2m5p4yBOk   \n",
      "30    https://www.youtube.com/watch?v=kNcQXECrLxI   \n",
      "31  https://www.youtube.com/watch?v=Tnp34vrtYns&t   \n",
      "32    https://www.youtube.com/watch?v=hcdHAbJV_6U   \n",
      "33    https://www.youtube.com/watch?v=vdeUNRWrLvU   \n",
      "34    https://www.youtube.com/watch?v=WoCBxF1xtuQ   \n",
      "35    https://www.youtube.com/watch?v=VXsfaoLveDw   \n",
      "36    https://www.youtube.com/watch?v=YTLrq4p6OZc   \n",
      "37    https://www.youtube.com/watch?v=wri_d4lv88A   \n",
      "38    https://www.youtube.com/watch?v=bTOVQPOFAyg   \n",
      "39    https://www.youtube.com/watch?v=EVuyrGk0mxo   \n",
      "40    https://www.youtube.com/watch?v=-n5gCgB6rH0   \n",
      "41    https://www.youtube.com/watch?v=Ju_mxRSp-YY   \n",
      "42    https://www.youtube.com/watch?v=IMU5TeyNvC8   \n",
      "43  https://www.youtube.com/watch?v=0RGiAidjptw&t   \n",
      "44    https://www.youtube.com/watch?v=C3fG7Z3D5-k   \n",
      "\n",
      "                                        Texte extrait  \n",
      "0   bonjour à tous une colonne formule arrive dans...  \n",
      "1   [Musique] bonjour Si vous aussi comme chez aïd...  \n",
      "2   bonjour à tous aujourd'hui on va voir quelques...  \n",
      "3   merci à tous de vous être connecté aujourd'hui...  \n",
      "4   débuté avec un nouvel outil collaboratif n'est...  \n",
      "5   [Musique] bonjour à toutes et à tous on va voi...  \n",
      "6   bonjour à tout le monde c'est un plaisir d'org...  \n",
      "7   [Musique] bonjour à toutes et à tous bienvenue...  \n",
      "8   [Musique] bonjour à tous merci à tous de vous ...  \n",
      "9   merci à tous de vous être connecté aujourd'hui...  \n",
      "10  [Musique] bonjour à toutes et à tous on va voi...  \n",
      "11  [Musique] bonjour à toutes et à tous dans cett...  \n",
      "12  [Musique] bonjour à tous et à toutes en 5 minu...  \n",
      "13  bienvenue à ce webinaire je me présente je m'a...  \n",
      "14  bonjour à tous merci vraiment un grand merci d...  \n",
      "15  merci à tous d'être présent aujourd'hui pour l...  \n",
      "16  si vous passez des heures chaque semaine à met...  \n",
      "17  reproduire le mouvement automatique des tâches...  \n",
      "18  bonjour à tous bienvenue à tous merci pour vot...  \n",
      "19  [Musique] quels sont les meilleures manières d...  \n",
      "20  hello comme tous les mois je vous retrouve pou...  \n",
      "21  bonjour à tous j'espère que vous allez bien au...  \n",
      "22  bonjour à tous comme d'habitude il ya eu pas m...  \n",
      "23  [Musique] et et une bonjour à tous dans une vi...  \n",
      "24  bonjour à tous en utilisant à sanaa où on peut...  \n",
      "25  vous avez le sentiment d'être bombardés par le...  \n",
      "26  bonjour à tous ces dernières semaines plusieur...  \n",
      "27  bonjour à tous ravis de vous retrouver cette s...  \n",
      "28  bonjour à tous à sanaa a lancé récemment une n...  \n",
      "29  bonjour à tous j'espère que la reprise se pass...  \n",
      "30  bonjour j'espère que vous allez bien quand nou...  \n",
      "31  bonjour vous débutez avec l'outil collaboratif...  \n",
      "32  bonjour dans cette vidéo je vais vous explique...  \n",
      "33  bonjour à tous pendant l'été il ya eu quelques...  \n",
      "34  bienvenue sur cette chaîne youtube au travers ...  \n",
      "35  le sujet c'est comment avoir une vision global...  \n",
      "36  donc le constat voilà c'était des réunions moi...  \n",
      "37  donc bienvenue à tous bonjour à tous j'espère ...  \n",
      "38  donc bienvenue à tous et merci de me rejoindre...  \n",
      "39  webinaire fait partie d'une série que j'ai dém...  \n",
      "40  C'est bon, du coup, on peut attaquer. Les tout...  \n",
      "41  pour vous expliquer l'organisation du logiciel...  \n",
      "42  Bonjour à tous j'espère que vous allez bien j'...  \n",
      "43  bonjour à toi j'espère que vous allez bien auj...  \n",
      "44  Bonjour à tous sujet du jour comment gérer eff...  \n"
     ]
    }
   ],
   "source": [
    "print(df)"
   ]
  },
  {
   "cell_type": "code",
   "execution_count": 45,
   "id": "7cfdeacc",
   "metadata": {},
   "outputs": [],
   "source": [
    "chemin_fichier =\"C:/Users/marie/OneDrive/Bureau/Asana1\"+\"/data_youtube\"+\".csv\""
   ]
  },
  {
   "cell_type": "code",
   "execution_count": 46,
   "id": "63541a9f",
   "metadata": {},
   "outputs": [],
   "source": [
    "df.to_csv(chemin_fichier, index=False)"
   ]
  },
  {
   "cell_type": "code",
   "execution_count": 47,
   "id": "97f56cdf",
   "metadata": {},
   "outputs": [],
   "source": [
    "df.to_csv('dataframe_youtube.csv', index=False)"
   ]
  },
  {
   "cell_type": "code",
   "execution_count": null,
   "id": "1157f8c4",
   "metadata": {},
   "outputs": [],
   "source": []
  },
  {
   "cell_type": "code",
   "execution_count": null,
   "id": "0093bd5c",
   "metadata": {},
   "outputs": [],
   "source": []
  }
 ],
 "metadata": {
  "kernelspec": {
   "display_name": "Python 3 (ipykernel)",
   "language": "python",
   "name": "python3"
  },
  "language_info": {
   "codemirror_mode": {
    "name": "ipython",
    "version": 3
   },
   "file_extension": ".py",
   "mimetype": "text/x-python",
   "name": "python",
   "nbconvert_exporter": "python",
   "pygments_lexer": "ipython3",
   "version": "3.9.12"
  }
 },
 "nbformat": 4,
 "nbformat_minor": 5
}
